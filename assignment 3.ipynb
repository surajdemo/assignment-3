{
 "cells": [
  {
   "cell_type": "code",
   "execution_count": 37,
   "id": "04f8042a",
   "metadata": {},
   "outputs": [
    {
     "name": "stdout",
     "output_type": "stream",
     "text": [
      "20\n"
     ]
    }
   ],
   "source": [
    "def sum(n):\n",
    "    b=(8,2,3,0,7)\n",
    "    s=0\n",
    "    for i in b :\n",
    "        s=s+i\n",
    "    return s\n",
    "\n",
    "print(sum(5))"
   ]
  },
  {
   "cell_type": "code",
   "execution_count": 11,
   "id": "5a33e436",
   "metadata": {},
   "outputs": [
    {
     "name": "stdout",
     "output_type": "stream",
     "text": [
      "enter the string1234abcd\n",
      "dcba4321\n"
     ]
    }
   ],
   "source": [
    "n=input(\"enter the string\")\n",
    "print(n[::-1])"
   ]
  },
  {
   "cell_type": "code",
   "execution_count": 30,
   "id": "c4920930",
   "metadata": {},
   "outputs": [
    {
     "name": "stdout",
     "output_type": "stream",
     "text": [
      "(3, 12)\n"
     ]
    }
   ],
   "source": [
    "def string(s):\n",
    "    a,b=0,0\n",
    "    for i in s:\n",
    "        if i.isupper():\n",
    "           a=a+1\n",
    "        else:\n",
    "           b=b+1\n",
    "    return a,b\n",
    "\n",
    "\n",
    "print(string('ThequickBrowFox'))\n",
    "         \n",
    "            "
   ]
  },
  {
   "cell_type": "code",
   "execution_count": 21,
   "id": "2c59383a",
   "metadata": {},
   "outputs": [
    {
     "name": "stdout",
     "output_type": "stream",
     "text": [
      "False\n"
     ]
    }
   ],
   "source": [
    "\n",
    "\n",
    "\n"
   ]
  },
  {
   "cell_type": "code",
   "execution_count": null,
   "id": "ef949efb",
   "metadata": {},
   "outputs": [],
   "source": []
  }
 ],
 "metadata": {
  "kernelspec": {
   "display_name": "Python 3 (ipykernel)",
   "language": "python",
   "name": "python3"
  },
  "language_info": {
   "codemirror_mode": {
    "name": "ipython",
    "version": 3
   },
   "file_extension": ".py",
   "mimetype": "text/x-python",
   "name": "python",
   "nbconvert_exporter": "python",
   "pygments_lexer": "ipython3",
   "version": "3.10.9"
  }
 },
 "nbformat": 4,
 "nbformat_minor": 5
}
